{
 "cells": [
  {
   "cell_type": "code",
   "execution_count": 8,
   "id": "167de04f",
   "metadata": {},
   "outputs": [],
   "source": [
    "import pandas as pd\n",
    "import numpy as np\n",
    "import os\n",
    "import tqdm\n",
    "from joblib import Parallel, delayed\n",
    "from tqdm_joblib import tqdm_joblib\n",
    "from os.path import join as pjoin"
   ]
  },
  {
   "cell_type": "code",
   "execution_count": 4,
   "id": "4d7871e0",
   "metadata": {},
   "outputs": [
    {
     "data": {
      "text/plain": [
       "{'aligned_volume': {'id': 3,\n",
       "  'name': 'v1dd',\n",
       "  'display_name': None,\n",
       "  'description': 'the first fine alignment of the v1dd dataset',\n",
       "  'image_source': 'precomputed://gs://v1dd_imagery/image/aligned_image'},\n",
       " 'segmentation_source': 'graphene://https://api.em.brain.allentech.org/segmentation/table/v1dd_public',\n",
       " 'skeleton_source': 'precomputed://middleauth+https://api.em.brain.allentech.org/skeletoncache/api/v1/v1dd_public/precomputed/skeleton',\n",
       " 'analysis_database': None,\n",
       " 'viewer_site': 'spelunker.cave-explorer.org',\n",
       " 'synapse_table': 'synapses_v1dd',\n",
       " 'soma_table': 'nucleus_detection_v0',\n",
       " 'local_server': 'https://api.em.brain.allentech.org',\n",
       " 'description': 'This is the public release of the v1dd dataset.',\n",
       " 'viewer_resolution_x': 9.0,\n",
       " 'viewer_resolution_y': 9.0,\n",
       " 'viewer_resolution_z': 45.0,\n",
       " 'proofreading_status_table': 'proofreading_status_and_strategy',\n",
       " 'cell_identification_table': None,\n",
       " 'proofreading_review_table': None}"
      ]
     },
     "execution_count": 4,
     "metadata": {},
     "output_type": "execute_result"
    }
   ],
   "source": [
    "from caveclient import CAVEclient\n",
    "\n",
    "client = CAVEclient()\n",
    "v1dd_client = CAVEclient(server_address=\"https://global.em.brain.allentech.org\")\n",
    "v1dd_client.auth.save_token(token=\"b6459ccf83fb10a3cea2f122eb704e0f\",\n",
    "                            overwrite=True)\n",
    "\n",
    "client = CAVEclient(datastack_name='v1dd_public',)\n",
    "client.info.get_datastack_info()\n"
   ]
  },
  {
   "cell_type": "code",
   "execution_count": 10,
   "id": "2133d18b",
   "metadata": {},
   "outputs": [
    {
     "name": "stdout",
     "output_type": "stream",
     "text": [
      "There are 63986 cells with acceptable dendrites, and 1210 cells with axon proofreading\n",
      "The number of cells with usable axons and dendrites is: 1148\n"
     ]
    }
   ],
   "source": [
    "data_dir = '/Users/rodrigo.gonzalezlaiz/Desktop/v1dd_1196'\n",
    "mat_version = '1196'\n",
    "# Loads cells with axon and dendrite proofreading\n",
    "dendrite_proof_root_ids = np.load(\n",
    "    pjoin(data_dir, f\"proofread_dendrite_list_{mat_version}.npy\"))\n",
    "axon_proof_root_ids = np.load(\n",
    "    pjoin(data_dir, f\"proofread_axon_list_{mat_version}.npy\"))\n",
    "\n",
    "# get the ids of all proofread cells with both axon and dendrite proofreading\n",
    "proof_root_ids = axon_proof_root_ids[np.isin(axon_proof_root_ids,\n",
    "                                             dendrite_proof_root_ids)]\n",
    "\n",
    "print(\n",
    "    f\"There are {len(dendrite_proof_root_ids)} cells with acceptable dendrites, and {len(axon_proof_root_ids)} cells with axon proofreading\"\n",
    ")\n",
    "print(\n",
    "    f\"The number of cells with usable axons and dendrites is: {len(proof_root_ids)}\"\n",
    ")"
   ]
  },
  {
   "cell_type": "code",
   "execution_count": 14,
   "id": "2738e268",
   "metadata": {},
   "outputs": [],
   "source": [
    "coregistered_info = pd.read_feather(f\"{data_dir}/coregistration_1196.feather\")"
   ]
  },
  {
   "cell_type": "code",
   "execution_count": 15,
   "id": "335bcb48",
   "metadata": {},
   "outputs": [
    {
     "data": {
      "text/html": [
       "<div>\n",
       "<style scoped>\n",
       "    .dataframe tbody tr th:only-of-type {\n",
       "        vertical-align: middle;\n",
       "    }\n",
       "\n",
       "    .dataframe tbody tr th {\n",
       "        vertical-align: top;\n",
       "    }\n",
       "\n",
       "    .dataframe thead th {\n",
       "        text-align: right;\n",
       "    }\n",
       "</style>\n",
       "<table border=\"1\" class=\"dataframe\">\n",
       "  <thead>\n",
       "    <tr style=\"text-align: right;\">\n",
       "      <th></th>\n",
       "      <th>pt_root_id</th>\n",
       "      <th>column</th>\n",
       "      <th>volume</th>\n",
       "      <th>plane</th>\n",
       "      <th>roi</th>\n",
       "    </tr>\n",
       "  </thead>\n",
       "  <tbody>\n",
       "    <tr>\n",
       "      <th>0</th>\n",
       "      <td>864691132830842994</td>\n",
       "      <td>1</td>\n",
       "      <td>3</td>\n",
       "      <td>0</td>\n",
       "      <td>143</td>\n",
       "    </tr>\n",
       "    <tr>\n",
       "      <th>1</th>\n",
       "      <td>864691132741466457</td>\n",
       "      <td>1</td>\n",
       "      <td>3</td>\n",
       "      <td>2</td>\n",
       "      <td>40</td>\n",
       "    </tr>\n",
       "    <tr>\n",
       "      <th>2</th>\n",
       "      <td>864691132770893729</td>\n",
       "      <td>1</td>\n",
       "      <td>3</td>\n",
       "      <td>3</td>\n",
       "      <td>98</td>\n",
       "    </tr>\n",
       "    <tr>\n",
       "      <th>3</th>\n",
       "      <td>864691132770893729</td>\n",
       "      <td>1</td>\n",
       "      <td>3</td>\n",
       "      <td>3</td>\n",
       "      <td>98</td>\n",
       "    </tr>\n",
       "    <tr>\n",
       "      <th>4</th>\n",
       "      <td>864691132999240117</td>\n",
       "      <td>1</td>\n",
       "      <td>3</td>\n",
       "      <td>0</td>\n",
       "      <td>100</td>\n",
       "    </tr>\n",
       "    <tr>\n",
       "      <th>...</th>\n",
       "      <td>...</td>\n",
       "      <td>...</td>\n",
       "      <td>...</td>\n",
       "      <td>...</td>\n",
       "      <td>...</td>\n",
       "    </tr>\n",
       "    <tr>\n",
       "      <th>566</th>\n",
       "      <td>864691132744008540</td>\n",
       "      <td>1</td>\n",
       "      <td>3</td>\n",
       "      <td>2</td>\n",
       "      <td>236</td>\n",
       "    </tr>\n",
       "    <tr>\n",
       "      <th>567</th>\n",
       "      <td>864691132810202401</td>\n",
       "      <td>1</td>\n",
       "      <td>3</td>\n",
       "      <td>2</td>\n",
       "      <td>383</td>\n",
       "    </tr>\n",
       "    <tr>\n",
       "      <th>568</th>\n",
       "      <td>864691132925592361</td>\n",
       "      <td>1</td>\n",
       "      <td>3</td>\n",
       "      <td>2</td>\n",
       "      <td>393</td>\n",
       "    </tr>\n",
       "    <tr>\n",
       "      <th>569</th>\n",
       "      <td>864691132884727983</td>\n",
       "      <td>1</td>\n",
       "      <td>3</td>\n",
       "      <td>0</td>\n",
       "      <td>89</td>\n",
       "    </tr>\n",
       "    <tr>\n",
       "      <th>570</th>\n",
       "      <td>864691132617961537</td>\n",
       "      <td>1</td>\n",
       "      <td>3</td>\n",
       "      <td>0</td>\n",
       "      <td>25</td>\n",
       "    </tr>\n",
       "  </tbody>\n",
       "</table>\n",
       "<p>571 rows × 5 columns</p>\n",
       "</div>"
      ],
      "text/plain": [
       "             pt_root_id  column  volume  plane  roi\n",
       "0    864691132830842994       1       3      0  143\n",
       "1    864691132741466457       1       3      2   40\n",
       "2    864691132770893729       1       3      3   98\n",
       "3    864691132770893729       1       3      3   98\n",
       "4    864691132999240117       1       3      0  100\n",
       "..                  ...     ...     ...    ...  ...\n",
       "566  864691132744008540       1       3      2  236\n",
       "567  864691132810202401       1       3      2  383\n",
       "568  864691132925592361       1       3      2  393\n",
       "569  864691132884727983       1       3      0   89\n",
       "570  864691132617961537       1       3      0   25\n",
       "\n",
       "[571 rows x 5 columns]"
      ]
     },
     "execution_count": 15,
     "metadata": {},
     "output_type": "execute_result"
    }
   ],
   "source": [
    "coregistered_info"
   ]
  },
  {
   "cell_type": "code",
   "execution_count": 19,
   "id": "78c685be",
   "metadata": {},
   "outputs": [],
   "source": [
    "dendrite_and_coregistered_root_ids = dendrite_proof_root_ids[np.isin(\n",
    "    dendrite_proof_root_ids, coregistered_info['pt_root_id'])]"
   ]
  },
  {
   "cell_type": "code",
   "execution_count": 21,
   "id": "ede24abe",
   "metadata": {},
   "outputs": [
    {
     "name": "stderr",
     "output_type": "stream",
     "text": [
      "100%|██████████| 12/12 [18:12<00:00, 91.06s/it]\n"
     ]
    }
   ],
   "source": [
    "syn_dfs = []\n",
    "syn_path = f\"{data_dir}/syn_df_dendrite_and_coregistered_{mat_version}.feather\"\n",
    "for post_root_ids in tqdm.tqdm(\n",
    "        np.array_split(dendrite_and_coregistered_root_ids,\n",
    "                       len(dendrite_and_coregistered_root_ids) // 40)):\n",
    "    syn_df_chunk = client.materialize.query_table(\n",
    "        \"synapses_v1dd\",\n",
    "        filter_in_dict={\"post_pt_root_id\": post_root_ids},\n",
    "        desired_resolution=[1, 1, 1],\n",
    "        split_positions=True,\n",
    "    )\n",
    "    syn_df_chunk = syn_df_chunk[syn_df_chunk[\"pre_pt_root_id\"] !=\n",
    "                                syn_df_chunk[\"post_pt_root_id\"]]\n",
    "    syn_df_chunk = syn_df_chunk.drop(columns=[\n",
    "        \"created\",\n",
    "        \"valid\",\n",
    "        \"superceded_id\",\n",
    "        \"pre_pt_supervoxel_id\",\n",
    "        \"post_pt_supervoxel_id\",\n",
    "    ])\n",
    "    assert len(syn_df_chunk) < 500_000\n",
    "    syn_dfs.append(syn_df_chunk)\n",
    "\n",
    "post_syn_df = pd.concat(syn_dfs)\n",
    "post_syn_df.to_feather(syn_path, compression=\"zstd\")"
   ]
  },
  {
   "cell_type": "code",
   "execution_count": 22,
   "id": "49108472",
   "metadata": {},
   "outputs": [
    {
     "data": {
      "text/plain": [
       "(2017256, 13)"
      ]
     },
     "execution_count": 22,
     "metadata": {},
     "output_type": "execute_result"
    }
   ],
   "source": [
    "post_syn_df.shape"
   ]
  }
 ],
 "metadata": {
  "kernelspec": {
   "display_name": "funcky",
   "language": "python",
   "name": "python3"
  },
  "language_info": {
   "codemirror_mode": {
    "name": "ipython",
    "version": 3
   },
   "file_extension": ".py",
   "mimetype": "text/x-python",
   "name": "python",
   "nbconvert_exporter": "python",
   "pygments_lexer": "ipython3",
   "version": "3.10.18"
  }
 },
 "nbformat": 4,
 "nbformat_minor": 5
}
